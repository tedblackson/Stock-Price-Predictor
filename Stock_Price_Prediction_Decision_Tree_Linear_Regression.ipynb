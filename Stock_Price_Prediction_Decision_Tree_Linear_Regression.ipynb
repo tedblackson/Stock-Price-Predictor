{
  "nbformat": 4,
  "nbformat_minor": 0,
  "metadata": {
    "colab": {
      "provenance": [],
      "authorship_tag": "ABX9TyPonGqk3rF9g1u4xGgwvsYE",
      "include_colab_link": true
    },
    "kernelspec": {
      "name": "python3",
      "display_name": "Python 3"
    },
    "language_info": {
      "name": "python"
    }
  },
  "cells": [
    {
      "cell_type": "markdown",
      "metadata": {
        "id": "view-in-github",
        "colab_type": "text"
      },
      "source": [
        "<a href=\"https://colab.research.google.com/github/tedblackson/Stock-Price-Predictor/blob/Models/Stock_Price_Prediction_Decision_Tree_Linear_Regression.ipynb\" target=\"_parent\"><img src=\"https://colab.research.google.com/assets/colab-badge.svg\" alt=\"Open In Colab\"/></a>"
      ]
    },
    {
      "cell_type": "markdown",
      "source": [
        "###Stock Price Prediction Using Decision Tree and Linear Regression"
      ],
      "metadata": {
        "id": "hn05TxtCeuTP"
      }
    },
    {
      "cell_type": "code",
      "execution_count": null,
      "metadata": {
        "id": "PWK8razrOguD"
      },
      "outputs": [],
      "source": [
        "import pandas as pd\n",
        "import numpy as np\n",
        "import matplotlib.pyplot as plt"
      ]
    },
    {
      "cell_type": "code",
      "source": [
        "import io\n",
        "from google.colab.files import upload\n",
        "uploaded = upload()"
      ],
      "metadata": {
        "colab": {
          "base_uri": "https://localhost:8080/",
          "height": 74
        },
        "id": "4pwQC-ElZAe9",
        "outputId": "a3692871-acb7-49aa-8551-b5b0149d231b"
      },
      "execution_count": null,
      "outputs": [
        {
          "output_type": "display_data",
          "data": {
            "text/plain": [
              "<IPython.core.display.HTML object>"
            ],
            "text/html": [
              "\n",
              "     <input type=\"file\" id=\"files-603c4148-e45f-4874-88e8-2c632ca31c72\" name=\"files[]\" multiple disabled\n",
              "        style=\"border:none\" />\n",
              "     <output id=\"result-603c4148-e45f-4874-88e8-2c632ca31c72\">\n",
              "      Upload widget is only available when the cell has been executed in the\n",
              "      current browser session. Please rerun this cell to enable.\n",
              "      </output>\n",
              "      <script>// Copyright 2017 Google LLC\n",
              "//\n",
              "// Licensed under the Apache License, Version 2.0 (the \"License\");\n",
              "// you may not use this file except in compliance with the License.\n",
              "// You may obtain a copy of the License at\n",
              "//\n",
              "//      http://www.apache.org/licenses/LICENSE-2.0\n",
              "//\n",
              "// Unless required by applicable law or agreed to in writing, software\n",
              "// distributed under the License is distributed on an \"AS IS\" BASIS,\n",
              "// WITHOUT WARRANTIES OR CONDITIONS OF ANY KIND, either express or implied.\n",
              "// See the License for the specific language governing permissions and\n",
              "// limitations under the License.\n",
              "\n",
              "/**\n",
              " * @fileoverview Helpers for google.colab Python module.\n",
              " */\n",
              "(function(scope) {\n",
              "function span(text, styleAttributes = {}) {\n",
              "  const element = document.createElement('span');\n",
              "  element.textContent = text;\n",
              "  for (const key of Object.keys(styleAttributes)) {\n",
              "    element.style[key] = styleAttributes[key];\n",
              "  }\n",
              "  return element;\n",
              "}\n",
              "\n",
              "// Max number of bytes which will be uploaded at a time.\n",
              "const MAX_PAYLOAD_SIZE = 100 * 1024;\n",
              "\n",
              "function _uploadFiles(inputId, outputId) {\n",
              "  const steps = uploadFilesStep(inputId, outputId);\n",
              "  const outputElement = document.getElementById(outputId);\n",
              "  // Cache steps on the outputElement to make it available for the next call\n",
              "  // to uploadFilesContinue from Python.\n",
              "  outputElement.steps = steps;\n",
              "\n",
              "  return _uploadFilesContinue(outputId);\n",
              "}\n",
              "\n",
              "// This is roughly an async generator (not supported in the browser yet),\n",
              "// where there are multiple asynchronous steps and the Python side is going\n",
              "// to poll for completion of each step.\n",
              "// This uses a Promise to block the python side on completion of each step,\n",
              "// then passes the result of the previous step as the input to the next step.\n",
              "function _uploadFilesContinue(outputId) {\n",
              "  const outputElement = document.getElementById(outputId);\n",
              "  const steps = outputElement.steps;\n",
              "\n",
              "  const next = steps.next(outputElement.lastPromiseValue);\n",
              "  return Promise.resolve(next.value.promise).then((value) => {\n",
              "    // Cache the last promise value to make it available to the next\n",
              "    // step of the generator.\n",
              "    outputElement.lastPromiseValue = value;\n",
              "    return next.value.response;\n",
              "  });\n",
              "}\n",
              "\n",
              "/**\n",
              " * Generator function which is called between each async step of the upload\n",
              " * process.\n",
              " * @param {string} inputId Element ID of the input file picker element.\n",
              " * @param {string} outputId Element ID of the output display.\n",
              " * @return {!Iterable<!Object>} Iterable of next steps.\n",
              " */\n",
              "function* uploadFilesStep(inputId, outputId) {\n",
              "  const inputElement = document.getElementById(inputId);\n",
              "  inputElement.disabled = false;\n",
              "\n",
              "  const outputElement = document.getElementById(outputId);\n",
              "  outputElement.innerHTML = '';\n",
              "\n",
              "  const pickedPromise = new Promise((resolve) => {\n",
              "    inputElement.addEventListener('change', (e) => {\n",
              "      resolve(e.target.files);\n",
              "    });\n",
              "  });\n",
              "\n",
              "  const cancel = document.createElement('button');\n",
              "  inputElement.parentElement.appendChild(cancel);\n",
              "  cancel.textContent = 'Cancel upload';\n",
              "  const cancelPromise = new Promise((resolve) => {\n",
              "    cancel.onclick = () => {\n",
              "      resolve(null);\n",
              "    };\n",
              "  });\n",
              "\n",
              "  // Wait for the user to pick the files.\n",
              "  const files = yield {\n",
              "    promise: Promise.race([pickedPromise, cancelPromise]),\n",
              "    response: {\n",
              "      action: 'starting',\n",
              "    }\n",
              "  };\n",
              "\n",
              "  cancel.remove();\n",
              "\n",
              "  // Disable the input element since further picks are not allowed.\n",
              "  inputElement.disabled = true;\n",
              "\n",
              "  if (!files) {\n",
              "    return {\n",
              "      response: {\n",
              "        action: 'complete',\n",
              "      }\n",
              "    };\n",
              "  }\n",
              "\n",
              "  for (const file of files) {\n",
              "    const li = document.createElement('li');\n",
              "    li.append(span(file.name, {fontWeight: 'bold'}));\n",
              "    li.append(span(\n",
              "        `(${file.type || 'n/a'}) - ${file.size} bytes, ` +\n",
              "        `last modified: ${\n",
              "            file.lastModifiedDate ? file.lastModifiedDate.toLocaleDateString() :\n",
              "                                    'n/a'} - `));\n",
              "    const percent = span('0% done');\n",
              "    li.appendChild(percent);\n",
              "\n",
              "    outputElement.appendChild(li);\n",
              "\n",
              "    const fileDataPromise = new Promise((resolve) => {\n",
              "      const reader = new FileReader();\n",
              "      reader.onload = (e) => {\n",
              "        resolve(e.target.result);\n",
              "      };\n",
              "      reader.readAsArrayBuffer(file);\n",
              "    });\n",
              "    // Wait for the data to be ready.\n",
              "    let fileData = yield {\n",
              "      promise: fileDataPromise,\n",
              "      response: {\n",
              "        action: 'continue',\n",
              "      }\n",
              "    };\n",
              "\n",
              "    // Use a chunked sending to avoid message size limits. See b/62115660.\n",
              "    let position = 0;\n",
              "    do {\n",
              "      const length = Math.min(fileData.byteLength - position, MAX_PAYLOAD_SIZE);\n",
              "      const chunk = new Uint8Array(fileData, position, length);\n",
              "      position += length;\n",
              "\n",
              "      const base64 = btoa(String.fromCharCode.apply(null, chunk));\n",
              "      yield {\n",
              "        response: {\n",
              "          action: 'append',\n",
              "          file: file.name,\n",
              "          data: base64,\n",
              "        },\n",
              "      };\n",
              "\n",
              "      let percentDone = fileData.byteLength === 0 ?\n",
              "          100 :\n",
              "          Math.round((position / fileData.byteLength) * 100);\n",
              "      percent.textContent = `${percentDone}% done`;\n",
              "\n",
              "    } while (position < fileData.byteLength);\n",
              "  }\n",
              "\n",
              "  // All done.\n",
              "  yield {\n",
              "    response: {\n",
              "      action: 'complete',\n",
              "    }\n",
              "  };\n",
              "}\n",
              "\n",
              "scope.google = scope.google || {};\n",
              "scope.google.colab = scope.google.colab || {};\n",
              "scope.google.colab._files = {\n",
              "  _uploadFiles,\n",
              "  _uploadFilesContinue,\n",
              "};\n",
              "})(self);\n",
              "</script> "
            ]
          },
          "metadata": {}
        },
        {
          "output_type": "stream",
          "name": "stdout",
          "text": [
            "Saving AAPL.csv to AAPL.csv\n"
          ]
        }
      ]
    },
    {
      "cell_type": "code",
      "source": [
        "df = pd.read_csv(io.BytesIO(uploaded['AAPL.csv']))"
      ],
      "metadata": {
        "id": "0MekKjmGaZNP"
      },
      "execution_count": null,
      "outputs": []
    },
    {
      "cell_type": "code",
      "source": [
        "df.head()"
      ],
      "metadata": {
        "colab": {
          "base_uri": "https://localhost:8080/",
          "height": 337
        },
        "id": "y9NuKQxRa_Tw",
        "outputId": "f0f78cff-a8d1-494a-8012-bed93b8d0cd3"
      },
      "execution_count": null,
      "outputs": [
        {
          "output_type": "execute_result",
          "data": {
            "text/plain": [
              "         Date        Open        High         Low       Close   Adj Close  \\\n",
              "0  2014-09-29  100.589996  100.690002   98.040001   99.620003   93.514290   \n",
              "1  2014-10-06   99.949997  102.379997   98.309998  100.730003   94.556244   \n",
              "2  2014-10-13  101.330002  101.779999   95.180000   97.669998   91.683792   \n",
              "3  2014-10-20   98.320000  105.489998   98.220001  105.220001   98.771042   \n",
              "4  2014-10-27  104.849998  108.040001  104.699997  108.000000  101.380676   \n",
              "\n",
              "      Volume  \n",
              "0  142718700  \n",
              "1  280258200  \n",
              "2  358539800  \n",
              "3  358532900  \n",
              "4  220230600  "
            ],
            "text/html": [
              "\n",
              "  <div id=\"df-129ad331-f225-4f10-b1b3-740867709e98\">\n",
              "    <div class=\"colab-df-container\">\n",
              "      <div>\n",
              "<style scoped>\n",
              "    .dataframe tbody tr th:only-of-type {\n",
              "        vertical-align: middle;\n",
              "    }\n",
              "\n",
              "    .dataframe tbody tr th {\n",
              "        vertical-align: top;\n",
              "    }\n",
              "\n",
              "    .dataframe thead th {\n",
              "        text-align: right;\n",
              "    }\n",
              "</style>\n",
              "<table border=\"1\" class=\"dataframe\">\n",
              "  <thead>\n",
              "    <tr style=\"text-align: right;\">\n",
              "      <th></th>\n",
              "      <th>Date</th>\n",
              "      <th>Open</th>\n",
              "      <th>High</th>\n",
              "      <th>Low</th>\n",
              "      <th>Close</th>\n",
              "      <th>Adj Close</th>\n",
              "      <th>Volume</th>\n",
              "    </tr>\n",
              "  </thead>\n",
              "  <tbody>\n",
              "    <tr>\n",
              "      <th>0</th>\n",
              "      <td>2014-09-29</td>\n",
              "      <td>100.589996</td>\n",
              "      <td>100.690002</td>\n",
              "      <td>98.040001</td>\n",
              "      <td>99.620003</td>\n",
              "      <td>93.514290</td>\n",
              "      <td>142718700</td>\n",
              "    </tr>\n",
              "    <tr>\n",
              "      <th>1</th>\n",
              "      <td>2014-10-06</td>\n",
              "      <td>99.949997</td>\n",
              "      <td>102.379997</td>\n",
              "      <td>98.309998</td>\n",
              "      <td>100.730003</td>\n",
              "      <td>94.556244</td>\n",
              "      <td>280258200</td>\n",
              "    </tr>\n",
              "    <tr>\n",
              "      <th>2</th>\n",
              "      <td>2014-10-13</td>\n",
              "      <td>101.330002</td>\n",
              "      <td>101.779999</td>\n",
              "      <td>95.180000</td>\n",
              "      <td>97.669998</td>\n",
              "      <td>91.683792</td>\n",
              "      <td>358539800</td>\n",
              "    </tr>\n",
              "    <tr>\n",
              "      <th>3</th>\n",
              "      <td>2014-10-20</td>\n",
              "      <td>98.320000</td>\n",
              "      <td>105.489998</td>\n",
              "      <td>98.220001</td>\n",
              "      <td>105.220001</td>\n",
              "      <td>98.771042</td>\n",
              "      <td>358532900</td>\n",
              "    </tr>\n",
              "    <tr>\n",
              "      <th>4</th>\n",
              "      <td>2014-10-27</td>\n",
              "      <td>104.849998</td>\n",
              "      <td>108.040001</td>\n",
              "      <td>104.699997</td>\n",
              "      <td>108.000000</td>\n",
              "      <td>101.380676</td>\n",
              "      <td>220230600</td>\n",
              "    </tr>\n",
              "  </tbody>\n",
              "</table>\n",
              "</div>\n",
              "      <button class=\"colab-df-convert\" onclick=\"convertToInteractive('df-129ad331-f225-4f10-b1b3-740867709e98')\"\n",
              "              title=\"Convert this dataframe to an interactive table.\"\n",
              "              style=\"display:none;\">\n",
              "        \n",
              "  <svg xmlns=\"http://www.w3.org/2000/svg\" height=\"24px\"viewBox=\"0 0 24 24\"\n",
              "       width=\"24px\">\n",
              "    <path d=\"M0 0h24v24H0V0z\" fill=\"none\"/>\n",
              "    <path d=\"M18.56 5.44l.94 2.06.94-2.06 2.06-.94-2.06-.94-.94-2.06-.94 2.06-2.06.94zm-11 1L8.5 8.5l.94-2.06 2.06-.94-2.06-.94L8.5 2.5l-.94 2.06-2.06.94zm10 10l.94 2.06.94-2.06 2.06-.94-2.06-.94-.94-2.06-.94 2.06-2.06.94z\"/><path d=\"M17.41 7.96l-1.37-1.37c-.4-.4-.92-.59-1.43-.59-.52 0-1.04.2-1.43.59L10.3 9.45l-7.72 7.72c-.78.78-.78 2.05 0 2.83L4 21.41c.39.39.9.59 1.41.59.51 0 1.02-.2 1.41-.59l7.78-7.78 2.81-2.81c.8-.78.8-2.07 0-2.86zM5.41 20L4 18.59l7.72-7.72 1.47 1.35L5.41 20z\"/>\n",
              "  </svg>\n",
              "      </button>\n",
              "      \n",
              "  <style>\n",
              "    .colab-df-container {\n",
              "      display:flex;\n",
              "      flex-wrap:wrap;\n",
              "      gap: 12px;\n",
              "    }\n",
              "\n",
              "    .colab-df-convert {\n",
              "      background-color: #E8F0FE;\n",
              "      border: none;\n",
              "      border-radius: 50%;\n",
              "      cursor: pointer;\n",
              "      display: none;\n",
              "      fill: #1967D2;\n",
              "      height: 32px;\n",
              "      padding: 0 0 0 0;\n",
              "      width: 32px;\n",
              "    }\n",
              "\n",
              "    .colab-df-convert:hover {\n",
              "      background-color: #E2EBFA;\n",
              "      box-shadow: 0px 1px 2px rgba(60, 64, 67, 0.3), 0px 1px 3px 1px rgba(60, 64, 67, 0.15);\n",
              "      fill: #174EA6;\n",
              "    }\n",
              "\n",
              "    [theme=dark] .colab-df-convert {\n",
              "      background-color: #3B4455;\n",
              "      fill: #D2E3FC;\n",
              "    }\n",
              "\n",
              "    [theme=dark] .colab-df-convert:hover {\n",
              "      background-color: #434B5C;\n",
              "      box-shadow: 0px 1px 3px 1px rgba(0, 0, 0, 0.15);\n",
              "      filter: drop-shadow(0px 1px 2px rgba(0, 0, 0, 0.3));\n",
              "      fill: #FFFFFF;\n",
              "    }\n",
              "  </style>\n",
              "\n",
              "      <script>\n",
              "        const buttonEl =\n",
              "          document.querySelector('#df-129ad331-f225-4f10-b1b3-740867709e98 button.colab-df-convert');\n",
              "        buttonEl.style.display =\n",
              "          google.colab.kernel.accessAllowed ? 'block' : 'none';\n",
              "\n",
              "        async function convertToInteractive(key) {\n",
              "          const element = document.querySelector('#df-129ad331-f225-4f10-b1b3-740867709e98');\n",
              "          const dataTable =\n",
              "            await google.colab.kernel.invokeFunction('convertToInteractive',\n",
              "                                                     [key], {});\n",
              "          if (!dataTable) return;\n",
              "\n",
              "          const docLinkHtml = 'Like what you see? Visit the ' +\n",
              "            '<a target=\"_blank\" href=https://colab.research.google.com/notebooks/data_table.ipynb>data table notebook</a>'\n",
              "            + ' to learn more about interactive tables.';\n",
              "          element.innerHTML = '';\n",
              "          dataTable['output_type'] = 'display_data';\n",
              "          await google.colab.output.renderOutput(dataTable, element);\n",
              "          const docLink = document.createElement('div');\n",
              "          docLink.innerHTML = docLinkHtml;\n",
              "          element.appendChild(docLink);\n",
              "        }\n",
              "      </script>\n",
              "    </div>\n",
              "  </div>\n",
              "  "
            ]
          },
          "metadata": {},
          "execution_count": 7
        }
      ]
    },
    {
      "cell_type": "code",
      "source": [
        "df.info()"
      ],
      "metadata": {
        "colab": {
          "base_uri": "https://localhost:8080/"
        },
        "id": "-P66Rh91bMH1",
        "outputId": "a5fb3697-438d-4287-ae52-f11d03c4af2b"
      },
      "execution_count": null,
      "outputs": [
        {
          "output_type": "stream",
          "name": "stdout",
          "text": [
            "<class 'pandas.core.frame.DataFrame'>\n",
            "RangeIndex: 184 entries, 0 to 183\n",
            "Data columns (total 7 columns):\n",
            " #   Column     Non-Null Count  Dtype  \n",
            "---  ------     --------------  -----  \n",
            " 0   Date       184 non-null    object \n",
            " 1   Open       184 non-null    float64\n",
            " 2   High       184 non-null    float64\n",
            " 3   Low        184 non-null    float64\n",
            " 4   Close      184 non-null    float64\n",
            " 5   Adj Close  184 non-null    float64\n",
            " 6   Volume     184 non-null    int64  \n",
            "dtypes: float64(5), int64(1), object(1)\n",
            "memory usage: 10.2+ KB\n"
          ]
        }
      ]
    },
    {
      "cell_type": "markdown",
      "source": [],
      "metadata": {
        "id": "vbWc0tiRer2H"
      }
    },
    {
      "cell_type": "code",
      "source": [
        "df.describe()"
      ],
      "metadata": {
        "colab": {
          "base_uri": "https://localhost:8080/",
          "height": 344
        },
        "id": "f1NBq6MwbWAq",
        "outputId": "154a88d2-490e-4187-aeb8-0e14478475df"
      },
      "execution_count": null,
      "outputs": [
        {
          "output_type": "execute_result",
          "data": {
            "text/plain": [
              "             Open        High         Low       Close   Adj Close  \\\n",
              "count  184.000000  184.000000  184.000000  184.000000  184.000000   \n",
              "mean   127.040245  129.918098  124.340381  127.352663  123.838032   \n",
              "std     24.314449   24.577906   24.176736   24.356534   25.655569   \n",
              "min     92.389999   93.769997   89.470001   90.519997   87.796822   \n",
              "25%    108.882499  112.362499  106.152502  109.204998  105.301765   \n",
              "50%    118.895000  120.865002  116.870003  119.190002  114.999730   \n",
              "75%    144.935005  147.695000  143.227493  144.704994  143.039467   \n",
              "max    180.289993  183.500000  177.619995  179.979996  179.979996   \n",
              "\n",
              "             Volume  \n",
              "count  1.840000e+02  \n",
              "mean   1.910168e+08  \n",
              "std    8.160281e+07  \n",
              "min    3.839850e+07  \n",
              "25%    1.273706e+08  \n",
              "50%    1.744112e+08  \n",
              "75%    2.207755e+08  \n",
              "max    5.003630e+08  "
            ],
            "text/html": [
              "\n",
              "  <div id=\"df-efd75aa7-4a87-42fe-b079-3d7fc359a5f0\">\n",
              "    <div class=\"colab-df-container\">\n",
              "      <div>\n",
              "<style scoped>\n",
              "    .dataframe tbody tr th:only-of-type {\n",
              "        vertical-align: middle;\n",
              "    }\n",
              "\n",
              "    .dataframe tbody tr th {\n",
              "        vertical-align: top;\n",
              "    }\n",
              "\n",
              "    .dataframe thead th {\n",
              "        text-align: right;\n",
              "    }\n",
              "</style>\n",
              "<table border=\"1\" class=\"dataframe\">\n",
              "  <thead>\n",
              "    <tr style=\"text-align: right;\">\n",
              "      <th></th>\n",
              "      <th>Open</th>\n",
              "      <th>High</th>\n",
              "      <th>Low</th>\n",
              "      <th>Close</th>\n",
              "      <th>Adj Close</th>\n",
              "      <th>Volume</th>\n",
              "    </tr>\n",
              "  </thead>\n",
              "  <tbody>\n",
              "    <tr>\n",
              "      <th>count</th>\n",
              "      <td>184.000000</td>\n",
              "      <td>184.000000</td>\n",
              "      <td>184.000000</td>\n",
              "      <td>184.000000</td>\n",
              "      <td>184.000000</td>\n",
              "      <td>1.840000e+02</td>\n",
              "    </tr>\n",
              "    <tr>\n",
              "      <th>mean</th>\n",
              "      <td>127.040245</td>\n",
              "      <td>129.918098</td>\n",
              "      <td>124.340381</td>\n",
              "      <td>127.352663</td>\n",
              "      <td>123.838032</td>\n",
              "      <td>1.910168e+08</td>\n",
              "    </tr>\n",
              "    <tr>\n",
              "      <th>std</th>\n",
              "      <td>24.314449</td>\n",
              "      <td>24.577906</td>\n",
              "      <td>24.176736</td>\n",
              "      <td>24.356534</td>\n",
              "      <td>25.655569</td>\n",
              "      <td>8.160281e+07</td>\n",
              "    </tr>\n",
              "    <tr>\n",
              "      <th>min</th>\n",
              "      <td>92.389999</td>\n",
              "      <td>93.769997</td>\n",
              "      <td>89.470001</td>\n",
              "      <td>90.519997</td>\n",
              "      <td>87.796822</td>\n",
              "      <td>3.839850e+07</td>\n",
              "    </tr>\n",
              "    <tr>\n",
              "      <th>25%</th>\n",
              "      <td>108.882499</td>\n",
              "      <td>112.362499</td>\n",
              "      <td>106.152502</td>\n",
              "      <td>109.204998</td>\n",
              "      <td>105.301765</td>\n",
              "      <td>1.273706e+08</td>\n",
              "    </tr>\n",
              "    <tr>\n",
              "      <th>50%</th>\n",
              "      <td>118.895000</td>\n",
              "      <td>120.865002</td>\n",
              "      <td>116.870003</td>\n",
              "      <td>119.190002</td>\n",
              "      <td>114.999730</td>\n",
              "      <td>1.744112e+08</td>\n",
              "    </tr>\n",
              "    <tr>\n",
              "      <th>75%</th>\n",
              "      <td>144.935005</td>\n",
              "      <td>147.695000</td>\n",
              "      <td>143.227493</td>\n",
              "      <td>144.704994</td>\n",
              "      <td>143.039467</td>\n",
              "      <td>2.207755e+08</td>\n",
              "    </tr>\n",
              "    <tr>\n",
              "      <th>max</th>\n",
              "      <td>180.289993</td>\n",
              "      <td>183.500000</td>\n",
              "      <td>177.619995</td>\n",
              "      <td>179.979996</td>\n",
              "      <td>179.979996</td>\n",
              "      <td>5.003630e+08</td>\n",
              "    </tr>\n",
              "  </tbody>\n",
              "</table>\n",
              "</div>\n",
              "      <button class=\"colab-df-convert\" onclick=\"convertToInteractive('df-efd75aa7-4a87-42fe-b079-3d7fc359a5f0')\"\n",
              "              title=\"Convert this dataframe to an interactive table.\"\n",
              "              style=\"display:none;\">\n",
              "        \n",
              "  <svg xmlns=\"http://www.w3.org/2000/svg\" height=\"24px\"viewBox=\"0 0 24 24\"\n",
              "       width=\"24px\">\n",
              "    <path d=\"M0 0h24v24H0V0z\" fill=\"none\"/>\n",
              "    <path d=\"M18.56 5.44l.94 2.06.94-2.06 2.06-.94-2.06-.94-.94-2.06-.94 2.06-2.06.94zm-11 1L8.5 8.5l.94-2.06 2.06-.94-2.06-.94L8.5 2.5l-.94 2.06-2.06.94zm10 10l.94 2.06.94-2.06 2.06-.94-2.06-.94-.94-2.06-.94 2.06-2.06.94z\"/><path d=\"M17.41 7.96l-1.37-1.37c-.4-.4-.92-.59-1.43-.59-.52 0-1.04.2-1.43.59L10.3 9.45l-7.72 7.72c-.78.78-.78 2.05 0 2.83L4 21.41c.39.39.9.59 1.41.59.51 0 1.02-.2 1.41-.59l7.78-7.78 2.81-2.81c.8-.78.8-2.07 0-2.86zM5.41 20L4 18.59l7.72-7.72 1.47 1.35L5.41 20z\"/>\n",
              "  </svg>\n",
              "      </button>\n",
              "      \n",
              "  <style>\n",
              "    .colab-df-container {\n",
              "      display:flex;\n",
              "      flex-wrap:wrap;\n",
              "      gap: 12px;\n",
              "    }\n",
              "\n",
              "    .colab-df-convert {\n",
              "      background-color: #E8F0FE;\n",
              "      border: none;\n",
              "      border-radius: 50%;\n",
              "      cursor: pointer;\n",
              "      display: none;\n",
              "      fill: #1967D2;\n",
              "      height: 32px;\n",
              "      padding: 0 0 0 0;\n",
              "      width: 32px;\n",
              "    }\n",
              "\n",
              "    .colab-df-convert:hover {\n",
              "      background-color: #E2EBFA;\n",
              "      box-shadow: 0px 1px 2px rgba(60, 64, 67, 0.3), 0px 1px 3px 1px rgba(60, 64, 67, 0.15);\n",
              "      fill: #174EA6;\n",
              "    }\n",
              "\n",
              "    [theme=dark] .colab-df-convert {\n",
              "      background-color: #3B4455;\n",
              "      fill: #D2E3FC;\n",
              "    }\n",
              "\n",
              "    [theme=dark] .colab-df-convert:hover {\n",
              "      background-color: #434B5C;\n",
              "      box-shadow: 0px 1px 3px 1px rgba(0, 0, 0, 0.15);\n",
              "      filter: drop-shadow(0px 1px 2px rgba(0, 0, 0, 0.3));\n",
              "      fill: #FFFFFF;\n",
              "    }\n",
              "  </style>\n",
              "\n",
              "      <script>\n",
              "        const buttonEl =\n",
              "          document.querySelector('#df-efd75aa7-4a87-42fe-b079-3d7fc359a5f0 button.colab-df-convert');\n",
              "        buttonEl.style.display =\n",
              "          google.colab.kernel.accessAllowed ? 'block' : 'none';\n",
              "\n",
              "        async function convertToInteractive(key) {\n",
              "          const element = document.querySelector('#df-efd75aa7-4a87-42fe-b079-3d7fc359a5f0');\n",
              "          const dataTable =\n",
              "            await google.colab.kernel.invokeFunction('convertToInteractive',\n",
              "                                                     [key], {});\n",
              "          if (!dataTable) return;\n",
              "\n",
              "          const docLinkHtml = 'Like what you see? Visit the ' +\n",
              "            '<a target=\"_blank\" href=https://colab.research.google.com/notebooks/data_table.ipynb>data table notebook</a>'\n",
              "            + ' to learn more about interactive tables.';\n",
              "          element.innerHTML = '';\n",
              "          dataTable['output_type'] = 'display_data';\n",
              "          await google.colab.output.renderOutput(dataTable, element);\n",
              "          const docLink = document.createElement('div');\n",
              "          docLink.innerHTML = docLinkHtml;\n",
              "          element.appendChild(docLink);\n",
              "        }\n",
              "      </script>\n",
              "    </div>\n",
              "  </div>\n",
              "  "
            ]
          },
          "metadata": {},
          "execution_count": 9
        }
      ]
    },
    {
      "cell_type": "code",
      "source": [
        "df.shape"
      ],
      "metadata": {
        "colab": {
          "base_uri": "https://localhost:8080/"
        },
        "id": "3fUuFBUUbYO1",
        "outputId": "15134d01-d4e8-49c5-9d3c-98b5996069e0"
      },
      "execution_count": null,
      "outputs": [
        {
          "output_type": "execute_result",
          "data": {
            "text/plain": [
              "(184, 7)"
            ]
          },
          "metadata": {},
          "execution_count": 10
        }
      ]
    },
    {
      "cell_type": "code",
      "source": [
        "df2 = df['Close']"
      ],
      "metadata": {
        "id": "fnhNKvV3bb8V"
      },
      "execution_count": null,
      "outputs": []
    },
    {
      "cell_type": "code",
      "source": [
        "df2.tail()"
      ],
      "metadata": {
        "colab": {
          "base_uri": "https://localhost:8080/"
        },
        "id": "HOOCh-0Zd9x0",
        "outputId": "e6fdc954-4a72-42ff-b893-46e6ce953cfc"
      },
      "execution_count": null,
      "outputs": [
        {
          "output_type": "execute_result",
          "data": {
            "text/plain": [
              "179    179.979996\n",
              "180    178.020004\n",
              "181    164.940002\n",
              "182    167.779999\n",
              "183    167.779999\n",
              "Name: Close, dtype: float64"
            ]
          },
          "metadata": {},
          "execution_count": 12
        }
      ]
    },
    {
      "cell_type": "code",
      "source": [
        "df2 = pd.DataFrame(df2)"
      ],
      "metadata": {
        "id": "gMNKvPAEeB00"
      },
      "execution_count": null,
      "outputs": []
    },
    {
      "cell_type": "code",
      "source": [
        "df2.tail()"
      ],
      "metadata": {
        "colab": {
          "base_uri": "https://localhost:8080/",
          "height": 206
        },
        "id": "6KpFRv7qeJn5",
        "outputId": "117c2876-900a-46f8-d879-abbfcbadc107"
      },
      "execution_count": null,
      "outputs": [
        {
          "output_type": "execute_result",
          "data": {
            "text/plain": [
              "          Close\n",
              "179  179.979996\n",
              "180  178.020004\n",
              "181  164.940002\n",
              "182  167.779999\n",
              "183  167.779999"
            ],
            "text/html": [
              "\n",
              "  <div id=\"df-10925f33-3cd2-4869-9a48-f2aa118bd2ef\">\n",
              "    <div class=\"colab-df-container\">\n",
              "      <div>\n",
              "<style scoped>\n",
              "    .dataframe tbody tr th:only-of-type {\n",
              "        vertical-align: middle;\n",
              "    }\n",
              "\n",
              "    .dataframe tbody tr th {\n",
              "        vertical-align: top;\n",
              "    }\n",
              "\n",
              "    .dataframe thead th {\n",
              "        text-align: right;\n",
              "    }\n",
              "</style>\n",
              "<table border=\"1\" class=\"dataframe\">\n",
              "  <thead>\n",
              "    <tr style=\"text-align: right;\">\n",
              "      <th></th>\n",
              "      <th>Close</th>\n",
              "    </tr>\n",
              "  </thead>\n",
              "  <tbody>\n",
              "    <tr>\n",
              "      <th>179</th>\n",
              "      <td>179.979996</td>\n",
              "    </tr>\n",
              "    <tr>\n",
              "      <th>180</th>\n",
              "      <td>178.020004</td>\n",
              "    </tr>\n",
              "    <tr>\n",
              "      <th>181</th>\n",
              "      <td>164.940002</td>\n",
              "    </tr>\n",
              "    <tr>\n",
              "      <th>182</th>\n",
              "      <td>167.779999</td>\n",
              "    </tr>\n",
              "    <tr>\n",
              "      <th>183</th>\n",
              "      <td>167.779999</td>\n",
              "    </tr>\n",
              "  </tbody>\n",
              "</table>\n",
              "</div>\n",
              "      <button class=\"colab-df-convert\" onclick=\"convertToInteractive('df-10925f33-3cd2-4869-9a48-f2aa118bd2ef')\"\n",
              "              title=\"Convert this dataframe to an interactive table.\"\n",
              "              style=\"display:none;\">\n",
              "        \n",
              "  <svg xmlns=\"http://www.w3.org/2000/svg\" height=\"24px\"viewBox=\"0 0 24 24\"\n",
              "       width=\"24px\">\n",
              "    <path d=\"M0 0h24v24H0V0z\" fill=\"none\"/>\n",
              "    <path d=\"M18.56 5.44l.94 2.06.94-2.06 2.06-.94-2.06-.94-.94-2.06-.94 2.06-2.06.94zm-11 1L8.5 8.5l.94-2.06 2.06-.94-2.06-.94L8.5 2.5l-.94 2.06-2.06.94zm10 10l.94 2.06.94-2.06 2.06-.94-2.06-.94-.94-2.06-.94 2.06-2.06.94z\"/><path d=\"M17.41 7.96l-1.37-1.37c-.4-.4-.92-.59-1.43-.59-.52 0-1.04.2-1.43.59L10.3 9.45l-7.72 7.72c-.78.78-.78 2.05 0 2.83L4 21.41c.39.39.9.59 1.41.59.51 0 1.02-.2 1.41-.59l7.78-7.78 2.81-2.81c.8-.78.8-2.07 0-2.86zM5.41 20L4 18.59l7.72-7.72 1.47 1.35L5.41 20z\"/>\n",
              "  </svg>\n",
              "      </button>\n",
              "      \n",
              "  <style>\n",
              "    .colab-df-container {\n",
              "      display:flex;\n",
              "      flex-wrap:wrap;\n",
              "      gap: 12px;\n",
              "    }\n",
              "\n",
              "    .colab-df-convert {\n",
              "      background-color: #E8F0FE;\n",
              "      border: none;\n",
              "      border-radius: 50%;\n",
              "      cursor: pointer;\n",
              "      display: none;\n",
              "      fill: #1967D2;\n",
              "      height: 32px;\n",
              "      padding: 0 0 0 0;\n",
              "      width: 32px;\n",
              "    }\n",
              "\n",
              "    .colab-df-convert:hover {\n",
              "      background-color: #E2EBFA;\n",
              "      box-shadow: 0px 1px 2px rgba(60, 64, 67, 0.3), 0px 1px 3px 1px rgba(60, 64, 67, 0.15);\n",
              "      fill: #174EA6;\n",
              "    }\n",
              "\n",
              "    [theme=dark] .colab-df-convert {\n",
              "      background-color: #3B4455;\n",
              "      fill: #D2E3FC;\n",
              "    }\n",
              "\n",
              "    [theme=dark] .colab-df-convert:hover {\n",
              "      background-color: #434B5C;\n",
              "      box-shadow: 0px 1px 3px 1px rgba(0, 0, 0, 0.15);\n",
              "      filter: drop-shadow(0px 1px 2px rgba(0, 0, 0, 0.3));\n",
              "      fill: #FFFFFF;\n",
              "    }\n",
              "  </style>\n",
              "\n",
              "      <script>\n",
              "        const buttonEl =\n",
              "          document.querySelector('#df-10925f33-3cd2-4869-9a48-f2aa118bd2ef button.colab-df-convert');\n",
              "        buttonEl.style.display =\n",
              "          google.colab.kernel.accessAllowed ? 'block' : 'none';\n",
              "\n",
              "        async function convertToInteractive(key) {\n",
              "          const element = document.querySelector('#df-10925f33-3cd2-4869-9a48-f2aa118bd2ef');\n",
              "          const dataTable =\n",
              "            await google.colab.kernel.invokeFunction('convertToInteractive',\n",
              "                                                     [key], {});\n",
              "          if (!dataTable) return;\n",
              "\n",
              "          const docLinkHtml = 'Like what you see? Visit the ' +\n",
              "            '<a target=\"_blank\" href=https://colab.research.google.com/notebooks/data_table.ipynb>data table notebook</a>'\n",
              "            + ' to learn more about interactive tables.';\n",
              "          element.innerHTML = '';\n",
              "          dataTable['output_type'] = 'display_data';\n",
              "          await google.colab.output.renderOutput(dataTable, element);\n",
              "          const docLink = document.createElement('div');\n",
              "          docLink.innerHTML = docLinkHtml;\n",
              "          element.appendChild(docLink);\n",
              "        }\n",
              "      </script>\n",
              "    </div>\n",
              "  </div>\n",
              "  "
            ]
          },
          "metadata": {},
          "execution_count": 14
        }
      ]
    },
    {
      "cell_type": "code",
      "source": [
        "future_days = 80\n",
        "df2['Prediction'] = df2['Close'].shift(-future_days)"
      ],
      "metadata": {
        "id": "Vsay__sheLA0"
      },
      "execution_count": null,
      "outputs": []
    },
    {
      "cell_type": "code",
      "source": [
        "df2.tail()"
      ],
      "metadata": {
        "colab": {
          "base_uri": "https://localhost:8080/",
          "height": 206
        },
        "id": "RZIiEgHOeO97",
        "outputId": "b1b0683d-b472-479c-de27-68cb798e0bbe"
      },
      "execution_count": null,
      "outputs": [
        {
          "output_type": "execute_result",
          "data": {
            "text/plain": [
              "          Close  Prediction\n",
              "179  179.979996         NaN\n",
              "180  178.020004         NaN\n",
              "181  164.940002         NaN\n",
              "182  167.779999         NaN\n",
              "183  167.779999         NaN"
            ],
            "text/html": [
              "\n",
              "  <div id=\"df-a6d43ea3-41a0-4ef9-bd3d-af87b43762fd\">\n",
              "    <div class=\"colab-df-container\">\n",
              "      <div>\n",
              "<style scoped>\n",
              "    .dataframe tbody tr th:only-of-type {\n",
              "        vertical-align: middle;\n",
              "    }\n",
              "\n",
              "    .dataframe tbody tr th {\n",
              "        vertical-align: top;\n",
              "    }\n",
              "\n",
              "    .dataframe thead th {\n",
              "        text-align: right;\n",
              "    }\n",
              "</style>\n",
              "<table border=\"1\" class=\"dataframe\">\n",
              "  <thead>\n",
              "    <tr style=\"text-align: right;\">\n",
              "      <th></th>\n",
              "      <th>Close</th>\n",
              "      <th>Prediction</th>\n",
              "    </tr>\n",
              "  </thead>\n",
              "  <tbody>\n",
              "    <tr>\n",
              "      <th>179</th>\n",
              "      <td>179.979996</td>\n",
              "      <td>NaN</td>\n",
              "    </tr>\n",
              "    <tr>\n",
              "      <th>180</th>\n",
              "      <td>178.020004</td>\n",
              "      <td>NaN</td>\n",
              "    </tr>\n",
              "    <tr>\n",
              "      <th>181</th>\n",
              "      <td>164.940002</td>\n",
              "      <td>NaN</td>\n",
              "    </tr>\n",
              "    <tr>\n",
              "      <th>182</th>\n",
              "      <td>167.779999</td>\n",
              "      <td>NaN</td>\n",
              "    </tr>\n",
              "    <tr>\n",
              "      <th>183</th>\n",
              "      <td>167.779999</td>\n",
              "      <td>NaN</td>\n",
              "    </tr>\n",
              "  </tbody>\n",
              "</table>\n",
              "</div>\n",
              "      <button class=\"colab-df-convert\" onclick=\"convertToInteractive('df-a6d43ea3-41a0-4ef9-bd3d-af87b43762fd')\"\n",
              "              title=\"Convert this dataframe to an interactive table.\"\n",
              "              style=\"display:none;\">\n",
              "        \n",
              "  <svg xmlns=\"http://www.w3.org/2000/svg\" height=\"24px\"viewBox=\"0 0 24 24\"\n",
              "       width=\"24px\">\n",
              "    <path d=\"M0 0h24v24H0V0z\" fill=\"none\"/>\n",
              "    <path d=\"M18.56 5.44l.94 2.06.94-2.06 2.06-.94-2.06-.94-.94-2.06-.94 2.06-2.06.94zm-11 1L8.5 8.5l.94-2.06 2.06-.94-2.06-.94L8.5 2.5l-.94 2.06-2.06.94zm10 10l.94 2.06.94-2.06 2.06-.94-2.06-.94-.94-2.06-.94 2.06-2.06.94z\"/><path d=\"M17.41 7.96l-1.37-1.37c-.4-.4-.92-.59-1.43-.59-.52 0-1.04.2-1.43.59L10.3 9.45l-7.72 7.72c-.78.78-.78 2.05 0 2.83L4 21.41c.39.39.9.59 1.41.59.51 0 1.02-.2 1.41-.59l7.78-7.78 2.81-2.81c.8-.78.8-2.07 0-2.86zM5.41 20L4 18.59l7.72-7.72 1.47 1.35L5.41 20z\"/>\n",
              "  </svg>\n",
              "      </button>\n",
              "      \n",
              "  <style>\n",
              "    .colab-df-container {\n",
              "      display:flex;\n",
              "      flex-wrap:wrap;\n",
              "      gap: 12px;\n",
              "    }\n",
              "\n",
              "    .colab-df-convert {\n",
              "      background-color: #E8F0FE;\n",
              "      border: none;\n",
              "      border-radius: 50%;\n",
              "      cursor: pointer;\n",
              "      display: none;\n",
              "      fill: #1967D2;\n",
              "      height: 32px;\n",
              "      padding: 0 0 0 0;\n",
              "      width: 32px;\n",
              "    }\n",
              "\n",
              "    .colab-df-convert:hover {\n",
              "      background-color: #E2EBFA;\n",
              "      box-shadow: 0px 1px 2px rgba(60, 64, 67, 0.3), 0px 1px 3px 1px rgba(60, 64, 67, 0.15);\n",
              "      fill: #174EA6;\n",
              "    }\n",
              "\n",
              "    [theme=dark] .colab-df-convert {\n",
              "      background-color: #3B4455;\n",
              "      fill: #D2E3FC;\n",
              "    }\n",
              "\n",
              "    [theme=dark] .colab-df-convert:hover {\n",
              "      background-color: #434B5C;\n",
              "      box-shadow: 0px 1px 3px 1px rgba(0, 0, 0, 0.15);\n",
              "      filter: drop-shadow(0px 1px 2px rgba(0, 0, 0, 0.3));\n",
              "      fill: #FFFFFF;\n",
              "    }\n",
              "  </style>\n",
              "\n",
              "      <script>\n",
              "        const buttonEl =\n",
              "          document.querySelector('#df-a6d43ea3-41a0-4ef9-bd3d-af87b43762fd button.colab-df-convert');\n",
              "        buttonEl.style.display =\n",
              "          google.colab.kernel.accessAllowed ? 'block' : 'none';\n",
              "\n",
              "        async function convertToInteractive(key) {\n",
              "          const element = document.querySelector('#df-a6d43ea3-41a0-4ef9-bd3d-af87b43762fd');\n",
              "          const dataTable =\n",
              "            await google.colab.kernel.invokeFunction('convertToInteractive',\n",
              "                                                     [key], {});\n",
              "          if (!dataTable) return;\n",
              "\n",
              "          const docLinkHtml = 'Like what you see? Visit the ' +\n",
              "            '<a target=\"_blank\" href=https://colab.research.google.com/notebooks/data_table.ipynb>data table notebook</a>'\n",
              "            + ' to learn more about interactive tables.';\n",
              "          element.innerHTML = '';\n",
              "          dataTable['output_type'] = 'display_data';\n",
              "          await google.colab.output.renderOutput(dataTable, element);\n",
              "          const docLink = document.createElement('div');\n",
              "          docLink.innerHTML = docLinkHtml;\n",
              "          element.appendChild(docLink);\n",
              "        }\n",
              "      </script>\n",
              "    </div>\n",
              "  </div>\n",
              "  "
            ]
          },
          "metadata": {},
          "execution_count": 16
        }
      ]
    },
    {
      "cell_type": "code",
      "source": [
        "X = np.array(df2.drop(['Prediction'], 1))[:-future_days]\n",
        "print(X)"
      ],
      "metadata": {
        "colab": {
          "base_uri": "https://localhost:8080/"
        },
        "id": "kdimxB7rejgo",
        "outputId": "00a76e1f-1e83-4d1c-8541-3561c55ac7a4"
      },
      "execution_count": null,
      "outputs": [
        {
          "output_type": "stream",
          "name": "stdout",
          "text": [
            "[[ 99.620003]\n",
            " [100.730003]\n",
            " [ 97.669998]\n",
            " [105.220001]\n",
            " [108.      ]\n",
            " [109.010002]\n",
            " [114.18    ]\n",
            " [116.470001]\n",
            " [118.93    ]\n",
            " [115.      ]\n",
            " [109.730003]\n",
            " [111.779999]\n",
            " [113.989998]\n",
            " [109.330002]\n",
            " [112.010002]\n",
            " [105.989998]\n",
            " [112.980003]\n",
            " [117.160004]\n",
            " [118.93    ]\n",
            " [127.080002]\n",
            " [129.5     ]\n",
            " [128.460007]\n",
            " [126.599998]\n",
            " [123.589996]\n",
            " [125.900002]\n",
            " [123.25    ]\n",
            " [125.32    ]\n",
            " [127.099998]\n",
            " [124.75    ]\n",
            " [130.279999]\n",
            " [128.949997]\n",
            " [127.620003]\n",
            " [128.770004]\n",
            " [132.539993]\n",
            " [130.279999]\n",
            " [128.649994]\n",
            " [127.169998]\n",
            " [126.599998]\n",
            " [126.75    ]\n",
            " [126.440002]\n",
            " [123.279999]\n",
            " [129.619995]\n",
            " [124.5     ]\n",
            " [121.300003]\n",
            " [115.519997]\n",
            " [115.959999]\n",
            " [105.760002]\n",
            " [113.290001]\n",
            " [109.269997]\n",
            " [114.209999]\n",
            " [113.449997]\n",
            " [114.709999]\n",
            " [110.379997]\n",
            " [112.120003]\n",
            " [111.040001]\n",
            " [119.080002]\n",
            " [119.5     ]\n",
            " [121.059998]\n",
            " [112.339996]\n",
            " [119.300003]\n",
            " [117.809998]\n",
            " [119.029999]\n",
            " [113.18    ]\n",
            " [106.029999]\n",
            " [108.029999]\n",
            " [105.260002]\n",
            " [ 96.959999]\n",
            " [ 97.129997]\n",
            " [101.419998]\n",
            " [ 97.339996]\n",
            " [ 94.019997]\n",
            " [ 93.989998]\n",
            " [ 96.040001]\n",
            " [ 96.910004]\n",
            " [103.010002]\n",
            " [102.260002]\n",
            " [105.919998]\n",
            " [105.669998]\n",
            " [109.989998]\n",
            " [108.660004]\n",
            " [109.849998]\n",
            " [105.68    ]\n",
            " [ 93.739998]\n",
            " [ 92.720001]\n",
            " [ 90.519997]\n",
            " [ 95.220001]\n",
            " [100.349998]\n",
            " [ 97.919998]\n",
            " [ 98.830002]\n",
            " [ 95.330002]\n",
            " [ 93.400002]\n",
            " [ 95.889999]\n",
            " [ 96.68    ]\n",
            " [ 98.779999]\n",
            " [ 98.660004]\n",
            " [104.209999]\n",
            " [107.480003]\n",
            " [108.18    ]\n",
            " [109.360001]\n",
            " [106.940002]\n",
            " [107.730003]\n",
            " [103.129997]\n",
            " [114.919998]\n",
            " [112.709999]]\n"
          ]
        },
        {
          "output_type": "stream",
          "name": "stderr",
          "text": [
            "<ipython-input-17-5c69b61eae2a>:1: FutureWarning: In a future version of pandas all arguments of DataFrame.drop except for the argument 'labels' will be keyword-only\n",
            "  X = np.array(df2.drop(['Prediction'], 1))[:-future_days]\n"
          ]
        }
      ]
    },
    {
      "cell_type": "code",
      "source": [
        "Y = np.array(df2['Prediction'])[:-future_days]\n",
        "print(Y)"
      ],
      "metadata": {
        "colab": {
          "base_uri": "https://localhost:8080/"
        },
        "id": "8rruLuU_hO4g",
        "outputId": "e47081eb-6b56-4312-820f-5af0d9d58493"
      },
      "execution_count": null,
      "outputs": [
        {
          "output_type": "stream",
          "name": "stdout",
          "text": [
            "[109.849998 105.68      93.739998  92.720001  90.519997  95.220001\n",
            " 100.349998  97.919998  98.830002  95.330002  93.400002  95.889999\n",
            "  96.68      98.779999  98.660004 104.209999 107.480003 108.18\n",
            " 109.360001 106.940002 107.730003 103.129997 114.919998 112.709999\n",
            " 113.050003 114.059998 117.629997 116.599998 113.720001 108.839996\n",
            " 108.43     110.059998 111.790001 109.900002 113.949997 115.970001\n",
            " 116.519997 115.82     117.910004 119.040001 120.       121.949997\n",
            " 129.080002 132.119995 135.720001 136.660004 139.779999 139.139999\n",
            " 139.990005 140.639999 143.660004 143.339996 141.050003 142.270004\n",
            " 143.649994 148.960007 156.100006 153.059998 153.610001 155.449997\n",
            " 148.979996 142.270004 146.279999 144.020004 144.179993 149.039993\n",
            " 150.270004 149.5      156.389999 157.479996 157.5      159.860001\n",
            " 164.050003 158.630005 159.880005 151.889999 154.119995 155.300003\n",
            " 156.990005 156.25     163.050003 172.5      174.669998 170.149994\n",
            " 174.970001 171.050003 169.369995 173.970001 175.009995 169.229996\n",
            " 175.       177.089996 178.460007 171.509995 160.5      156.410004\n",
            " 172.429993 175.5      176.210007 179.979996 178.020004 164.940002\n",
            " 167.779999 167.779999]\n"
          ]
        }
      ]
    },
    {
      "cell_type": "code",
      "source": [
        "from sklearn.model_selection import train_test_split\n",
        "x_train, x_test, y_train, y_test = train_test_split(X, Y, test_size = 0.2)\n"
      ],
      "metadata": {
        "id": "cRp5gTs0es9r"
      },
      "execution_count": null,
      "outputs": []
    },
    {
      "cell_type": "code",
      "source": [
        " \n",
        "from sklearn.tree import DecisionTreeRegressor\n",
        "from sklearn.linear_model import LinearRegression"
      ],
      "metadata": {
        "id": "_lOcBNStfFXL"
      },
      "execution_count": null,
      "outputs": []
    },
    {
      "cell_type": "code",
      "source": [
        "tree = DecisionTreeRegressor().fit(x_train, y_train)\n",
        "linear = LinearRegression().fit(x_train, y_train)"
      ],
      "metadata": {
        "id": "a0GHbcM6fXlV"
      },
      "execution_count": null,
      "outputs": []
    },
    {
      "cell_type": "code",
      "source": [
        "x_future = df2.drop(['Prediction'], 1)[:-future_days]\n",
        "x_future = x_future.tail(future_days)\n",
        "x_future = np.array(x_future)\n",
        "x_future\n"
      ],
      "metadata": {
        "colab": {
          "base_uri": "https://localhost:8080/"
        },
        "id": "RLvv-cJBfuq2",
        "outputId": "1bff3924-4fa5-4d4c-8de5-464b36a8f247"
      },
      "execution_count": null,
      "outputs": [
        {
          "output_type": "stream",
          "name": "stderr",
          "text": [
            "<ipython-input-22-4ab4510f9901>:1: FutureWarning: In a future version of pandas all arguments of DataFrame.drop except for the argument 'labels' will be keyword-only\n",
            "  x_future = df2.drop(['Prediction'], 1)[:-future_days]\n"
          ]
        },
        {
          "output_type": "execute_result",
          "data": {
            "text/plain": [
              "array([[125.900002],\n",
              "       [123.25    ],\n",
              "       [125.32    ],\n",
              "       [127.099998],\n",
              "       [124.75    ],\n",
              "       [130.279999],\n",
              "       [128.949997],\n",
              "       [127.620003],\n",
              "       [128.770004],\n",
              "       [132.539993],\n",
              "       [130.279999],\n",
              "       [128.649994],\n",
              "       [127.169998],\n",
              "       [126.599998],\n",
              "       [126.75    ],\n",
              "       [126.440002],\n",
              "       [123.279999],\n",
              "       [129.619995],\n",
              "       [124.5     ],\n",
              "       [121.300003],\n",
              "       [115.519997],\n",
              "       [115.959999],\n",
              "       [105.760002],\n",
              "       [113.290001],\n",
              "       [109.269997],\n",
              "       [114.209999],\n",
              "       [113.449997],\n",
              "       [114.709999],\n",
              "       [110.379997],\n",
              "       [112.120003],\n",
              "       [111.040001],\n",
              "       [119.080002],\n",
              "       [119.5     ],\n",
              "       [121.059998],\n",
              "       [112.339996],\n",
              "       [119.300003],\n",
              "       [117.809998],\n",
              "       [119.029999],\n",
              "       [113.18    ],\n",
              "       [106.029999],\n",
              "       [108.029999],\n",
              "       [105.260002],\n",
              "       [ 96.959999],\n",
              "       [ 97.129997],\n",
              "       [101.419998],\n",
              "       [ 97.339996],\n",
              "       [ 94.019997],\n",
              "       [ 93.989998],\n",
              "       [ 96.040001],\n",
              "       [ 96.910004],\n",
              "       [103.010002],\n",
              "       [102.260002],\n",
              "       [105.919998],\n",
              "       [105.669998],\n",
              "       [109.989998],\n",
              "       [108.660004],\n",
              "       [109.849998],\n",
              "       [105.68    ],\n",
              "       [ 93.739998],\n",
              "       [ 92.720001],\n",
              "       [ 90.519997],\n",
              "       [ 95.220001],\n",
              "       [100.349998],\n",
              "       [ 97.919998],\n",
              "       [ 98.830002],\n",
              "       [ 95.330002],\n",
              "       [ 93.400002],\n",
              "       [ 95.889999],\n",
              "       [ 96.68    ],\n",
              "       [ 98.779999],\n",
              "       [ 98.660004],\n",
              "       [104.209999],\n",
              "       [107.480003],\n",
              "       [108.18    ],\n",
              "       [109.360001],\n",
              "       [106.940002],\n",
              "       [107.730003],\n",
              "       [103.129997],\n",
              "       [114.919998],\n",
              "       [112.709999]])"
            ]
          },
          "metadata": {},
          "execution_count": 22
        }
      ]
    },
    {
      "cell_type": "code",
      "source": [
        "tree_prediction = tree.predict(x_future)\n",
        "print(tree_prediction)"
      ],
      "metadata": {
        "colab": {
          "base_uri": "https://localhost:8080/"
        },
        "id": "6QxdkCm1gEFm",
        "outputId": "d8708a1a-8923-42bf-912b-8d3702478a31"
      },
      "execution_count": null,
      "outputs": [
        {
          "output_type": "stream",
          "name": "stdout",
          "text": [
            "[113.050003  114.059998  117.629997  116.599998  129.080002  111.3949965\n",
            " 108.43      110.059998  111.790001  109.900002  111.3949965 115.970001\n",
            " 116.519997  115.82      117.910004  119.040001  120.        121.949997\n",
            " 129.080002  132.119995  135.720001  136.660004  154.119995  139.139999\n",
            " 139.990005  140.639999  139.139999  143.339996  141.050003  142.270004\n",
            " 143.649994  148.960007  156.100006  153.059998  153.610001  155.449997\n",
            " 148.979996  142.270004  146.279999  144.020004  144.179993   92.720001\n",
            " 150.270004  149.5       156.389999  149.5       157.5       159.860001\n",
            " 177.089996  150.270004  159.880005  151.889999  154.119995  154.119995\n",
            " 156.990005   95.220001   93.400002  154.119995  174.669998  170.149994\n",
            " 174.970001  171.050003  169.369995  173.970001  175.009995  169.229996\n",
            " 174.669998  177.089996  150.270004  171.509995  171.509995  156.410004\n",
            " 178.020004  175.5       176.210007  179.979996  178.020004  164.940002\n",
            " 167.779999  167.779999 ]\n"
          ]
        }
      ]
    },
    {
      "cell_type": "code",
      "source": [
        "lr_prediction = linear.predict(x_future)\n",
        "print(lr_prediction)\n"
      ],
      "metadata": {
        "colab": {
          "base_uri": "https://localhost:8080/"
        },
        "id": "n0LKcP3dgNXy",
        "outputId": "dc26378b-e3b0-458f-83c3-60a2997a7261"
      },
      "execution_count": null,
      "outputs": [
        {
          "output_type": "stream",
          "name": "stdout",
          "text": [
            "[117.17678414 120.96850879 118.00667328 115.45978378 118.82225118\n",
            " 110.90971621 112.81273415 114.71574065 113.07027505 107.67602999\n",
            " 110.90971621 113.24198997 115.35962509 116.17520298 115.96057436\n",
            " 116.4041314  120.92558507 111.85407528 119.17996078 123.75863939\n",
            " 132.02889398 131.39932222 145.99386969 135.21965791 140.97163403\n",
            " 133.90328943 134.99072948 133.18787023 139.3834034  136.89373598\n",
            " 138.43904433 126.93510209 126.33415282 124.10204776 136.57896155\n",
            " 126.62031621 128.75227259 127.0066483  135.37705156 145.60754761\n",
            " 142.7458708  146.7092889  158.58525198 158.34201231 152.20371411\n",
            " 158.04153768 162.79191976 162.83484348 159.90162045 158.65678675\n",
            " 149.92867532 151.00180412 145.76494127 146.12265087 139.94142895\n",
            " 141.84443545 140.14174632 146.10833963 163.19255309 164.65200397\n",
            " 167.79985419 161.07490795 153.73471121 157.21164854 155.90957986\n",
            " 160.91751429 163.67903242 160.11624908 158.9858853  155.98112608\n",
            " 156.15281953 148.21167352 143.5328262  142.5312436  140.84285285\n",
            " 144.30548037 143.1751166  149.75698186 132.88739559 136.04954705]\n"
          ]
        }
      ]
    },
    {
      "cell_type": "code",
      "source": [
        "predictions = tree_prediction \n",
        "valid = df2[X.shape[0]:]\n",
        "valid['Predictions'] = predictions\n"
      ],
      "metadata": {
        "colab": {
          "base_uri": "https://localhost:8080/"
        },
        "id": "MMR-3ambg7n7",
        "outputId": "2bf2f3d2-00b9-4be7-8cdb-3ae05931bbc8"
      },
      "execution_count": null,
      "outputs": [
        {
          "output_type": "stream",
          "name": "stderr",
          "text": [
            "<ipython-input-25-3343a07a945e>:3: SettingWithCopyWarning: \n",
            "A value is trying to be set on a copy of a slice from a DataFrame.\n",
            "Try using .loc[row_indexer,col_indexer] = value instead\n",
            "\n",
            "See the caveats in the documentation: https://pandas.pydata.org/pandas-docs/stable/user_guide/indexing.html#returning-a-view-versus-a-copy\n",
            "  valid['Predictions'] = predictions\n"
          ]
        }
      ]
    },
    {
      "cell_type": "code",
      "source": [
        "plt.figure(figsize=(16,8))\n",
        "plt.title(\"Decision Tree\")\n",
        "plt.xlabel('Days')\n",
        "plt.ylabel('Close Price USD ($)')\n",
        "plt.plot(df2['Close'])\n",
        "plt.plot(valid[['Close', 'Predictions']])\n",
        "plt.legend([\"Original\", \"Valid\", 'Predicted'])\n",
        "plt.show()"
      ],
      "metadata": {
        "colab": {
          "base_uri": "https://localhost:8080/",
          "height": 346
        },
        "id": "laQMbxiFg8Pb",
        "outputId": "f3aa5875-226c-412b-a512-1ff35d399b38"
      },
      "execution_count": null,
      "outputs": [
        {
          "output_type": "display_data",
          "data": {
            "text/plain": [
              "<Figure size 1152x576 with 1 Axes>"
            ],
            "image/png": "[encoded data removed]"
          },
          "metadata": {
            "needs_background": "light"
          }
        }
      ]
    },
    {
      "cell_type": "code",
      "source": [
        "from sklearn.metrics import mean_absolute_error\n",
        "from sklearn.metrics import mean_squared_error\n",
        "from sklearn.metrics import r2_score"
      ],
      "metadata": {
        "id": "FXPUU3X3uwFN"
      },
      "execution_count": null,
      "outputs": []
    },
    {
      "cell_type": "code",
      "source": [
        "mean_absolute_error(valid['Close'], valid['Predictions'])\n"
      ],
      "metadata": {
        "colab": {
          "base_uri": "https://localhost:8080/"
        },
        "id": "A43TxrC_ux4-",
        "outputId": "f728c523-4cb2-4a57-8998-e4d320a25a7c"
      },
      "execution_count": null,
      "outputs": [
        {
          "output_type": "execute_result",
          "data": {
            "text/plain": [
              "4.004875112500001"
            ]
          },
          "metadata": {},
          "execution_count": 28
        }
      ]
    },
    {
      "cell_type": "code",
      "source": [],
      "metadata": {
        "id": "bFTREBf_WFv2"
      },
      "execution_count": null,
      "outputs": []
    },
    {
      "cell_type": "code",
      "source": [
        "mean_squared_error(valid['Close'], valid['Predictions'])\n"
      ],
      "metadata": {
        "colab": {
          "base_uri": "https://localhost:8080/"
        },
        "id": "3UrPM_ffu4Ut",
        "outputId": "d7352e1d-787d-4ed4-e486-88a433cb5c8a"
      },
      "execution_count": null,
      "outputs": [
        {
          "output_type": "execute_result",
          "data": {
            "text/plain": [
              "172.66072860963033"
            ]
          },
          "metadata": {},
          "execution_count": 29
        }
      ]
    },
    {
      "cell_type": "code",
      "source": [
        "r2_score(valid['Close'], valid['Predictions'])\n"
      ],
      "metadata": {
        "colab": {
          "base_uri": "https://localhost:8080/"
        },
        "id": "5okMydfGu7lw",
        "outputId": "bf44bbc3-feed-4c2b-c1fd-90a896d1f61d"
      },
      "execution_count": null,
      "outputs": [
        {
          "output_type": "execute_result",
          "data": {
            "text/plain": [
              "0.6256835081885906"
            ]
          },
          "metadata": {},
          "execution_count": 30
        }
      ]
    },
    {
      "cell_type": "code",
      "source": [
        "predictions = lr_prediction\n",
        "valid = df2[X.shape[0]:]\n",
        "valid['Predictions'] = predictions"
      ],
      "metadata": {
        "colab": {
          "base_uri": "https://localhost:8080/"
        },
        "id": "-guC_BXHg_T5",
        "outputId": "7bf88b7c-0ac1-4b1d-bc4c-059f158069e5"
      },
      "execution_count": null,
      "outputs": [
        {
          "output_type": "stream",
          "name": "stderr",
          "text": [
            "<ipython-input-31-bf81036e7177>:3: SettingWithCopyWarning: \n",
            "A value is trying to be set on a copy of a slice from a DataFrame.\n",
            "Try using .loc[row_indexer,col_indexer] = value instead\n",
            "\n",
            "See the caveats in the documentation: https://pandas.pydata.org/pandas-docs/stable/user_guide/indexing.html#returning-a-view-versus-a-copy\n",
            "  valid['Predictions'] = predictions\n"
          ]
        }
      ]
    },
    {
      "cell_type": "code",
      "source": [
        "plt.figure(figsize=(16,8))\n",
        "plt.title(\"Linear Regression\")\n",
        "plt.xlabel('Days')\n",
        "plt.ylabel('Close Price USD ($)')\n",
        "plt.plot(df2['Close'])\n",
        "plt.plot(valid[['Close', 'Predictions']])\n",
        "plt.legend([\"Original\", \"Valid\", 'Predicted'])\n",
        "plt.show()"
      ],
      "metadata": {
        "colab": {
          "base_uri": "https://localhost:8080/",
          "height": 346
        },
        "id": "m49o6BsVhe5K",
        "outputId": "737e84f3-c565-41e8-dee6-9e53a73c81fc"
      },
      "execution_count": null,
      "outputs": [
        {
          "output_type": "display_data",
          "data": {
            "text/plain": [
              "<Figure size 1152x576 with 1 Axes>"
            ],
            "image/png": "[encoded data removed]"
          },
          "metadata": {
            "needs_background": "light"
          }
        }
      ]
    },
    {
      "cell_type": "code",
      "source": [
        "mean_absolute_error(valid['Close'], valid['Predictions'])\n"
      ],
      "metadata": {
        "colab": {
          "base_uri": "https://localhost:8080/"
        },
        "id": "DeDJN-mFhrNT",
        "outputId": "becd89df-f983-4b1c-b920-eaf5c52707f1"
      },
      "execution_count": null,
      "outputs": [
        {
          "output_type": "execute_result",
          "data": {
            "text/plain": [
              "10.905703879933771"
            ]
          },
          "metadata": {},
          "execution_count": 33
        }
      ]
    },
    {
      "cell_type": "code",
      "source": [
        "mean_squared_error(valid['Close'], valid['Predictions'])\n"
      ],
      "metadata": {
        "colab": {
          "base_uri": "https://localhost:8080/"
        },
        "id": "nP2FU3Knssan",
        "outputId": "8af51f31-a97b-47d4-81f6-c18fa0650208"
      },
      "execution_count": null,
      "outputs": [
        {
          "output_type": "execute_result",
          "data": {
            "text/plain": [
              "220.3262347062549"
            ]
          },
          "metadata": {},
          "execution_count": 34
        }
      ]
    },
    {
      "cell_type": "code",
      "source": [],
      "metadata": {
        "id": "nbTjvOPPC3VV"
      },
      "execution_count": null,
      "outputs": []
    },
    {
      "cell_type": "code",
      "source": [
        "r2_score(valid['Close'], valid['Predictions'])\n"
      ],
      "metadata": {
        "colab": {
          "base_uri": "https://localhost:8080/"
        },
        "id": "K1aYErN-s5tA",
        "outputId": "67f694ac-6d9e-41f2-fafa-cf555e523c58"
      },
      "execution_count": null,
      "outputs": [
        {
          "output_type": "execute_result",
          "data": {
            "text/plain": [
              "0.522347994860352"
            ]
          },
          "metadata": {},
          "execution_count": 35
        }
      ]
    },
    {
      "cell_type": "code",
      "source": [
        "from sklearn.tree import export_graphviz"
      ],
      "metadata": {
        "id": "w4XB4NQ9BIpG"
      },
      "execution_count": null,
      "outputs": []
    },
    {
      "cell_type": "code",
      "source": [
        "export_graphviz(tree, out_file = 'tree_structure.dot', feature_names = ['Close'] )"
      ],
      "metadata": {
        "id": "esziNJK_uagi"
      },
      "execution_count": null,
      "outputs": []
    },
    {
      "cell_type": "code",
      "source": [],
      "metadata": {
        "id": "0sxlkuemudRG"
      },
      "execution_count": null,
      "outputs": []
    },
    {
      "cell_type": "markdown",
      "source": [
        "# New Section"
      ],
      "metadata": {
        "id": "hGeTzJqfJqVT"
      }
    }
  ]
}